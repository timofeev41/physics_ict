{
 "cells": [
  {
   "cell_type": "markdown",
   "id": "placed-liberal",
   "metadata": {},
   "source": [
    "# Физика. Лабораторная работа 1.01. Тимофеев Н.А."
   ]
  },
  {
   "cell_type": "markdown",
   "id": "differential-valentine",
   "metadata": {},
   "source": [
    "### Импорт необходимых модулей и загрузка данных"
   ]
  },
  {
   "cell_type": "code",
   "execution_count": 1,
   "id": "verified-gravity",
   "metadata": {},
   "outputs": [],
   "source": [
    "import statistics as stat\n",
    "import numpy as np\n",
    "import matplotlib.pyplot as plt\n",
    "import scipy.stats as stats\n",
    "from scipy.interpolate import interp1d\n",
    "\n",
    "import pprint\n",
    "import math\n",
    "\n",
    "pp = pprint.PrettyPrinter(width=70, compact=True)"
   ]
  },
  {
   "cell_type": "code",
   "execution_count": 2,
   "id": "quality-delight",
   "metadata": {},
   "outputs": [],
   "source": [
    "data = {\"t\": [\n",
    "            9.89,9.60,9.80,9.57,10.04,10.00,9.38,9.17,9.83,10.88,10.55,\n",
    "            9.88,10.17,10.00,11.05,10.02,10.17,10.30,9.97,9.85,9.89,10.39,\n",
    "            10.34,9.99,10.25,10.07,9.83,9.65,9.83,9.92,9.90,10.25,9.87,10.02,\n",
    "            9.88,9.48,10.09,9.92,9.92,10.04,9.95,10.05,9.82,10.20,9.81,9.96,9.38,10.11,10.00,10.20\n",
    "        ]}"
   ]
  },
  {
   "cell_type": "markdown",
   "id": "persistent-sunrise",
   "metadata": {},
   "source": [
    "### Проверка введенных данных"
   ]
  },
  {
   "cell_type": "code",
   "execution_count": 3,
   "id": "instructional-present",
   "metadata": {},
   "outputs": [
    {
     "name": "stdout",
     "output_type": "stream",
     "text": [
      "Длина тестового набора данных: 50\n",
      "Результаты замеров лежат на интервале: [9.17,11.05]\n",
      "Среднее значение: 9.98\n"
     ]
    }
   ],
   "source": [
    "N = len(data[\"t\"])\n",
    "t_max, t_min = max(data[\"t\"]), min(data[\"t\"])\n",
    "t_mean = round(stat.mean(data[\"t\"]), 2)\n",
    "\n",
    "print(f\"Длина тестового набора данных: {N}\")\n",
    "print(f\"Результаты замеров лежат на интервале: [{t_min},{t_max}]\")\n",
    "print(f\"Среднее значение: {t_mean}\")"
   ]
  },
  {
   "cell_type": "markdown",
   "id": "australian-hours",
   "metadata": {},
   "source": [
    "### Рассчитываем необходимые величины в табл. 1"
   ]
  },
  {
   "cell_type": "code",
   "execution_count": 4,
   "id": "overall-fitness",
   "metadata": {
    "scrolled": true
   },
   "outputs": [],
   "source": [
    "data[\"t\"] = sorted(data[\"t\"])\n",
    "null = data.setdefault(\"t_i_min_mean\", [])\n",
    "null = data.setdefault(\"t_i_min_mean_sq\", [])"
   ]
  },
  {
   "cell_type": "code",
   "execution_count": 5,
   "id": "solved-midwest",
   "metadata": {},
   "outputs": [
    {
     "name": "stdout",
     "output_type": "stream",
     "text": [
      "Сумма значений столбца t_i - t_mean: 0\n"
     ]
    }
   ],
   "source": [
    "# Заполнение столбца t_i - t_mean\n",
    "for t_i in data[\"t\"]:\n",
    "    data[\"t_i_min_mean\"].append(round(t_i - t_mean, 2))\n",
    "\n",
    "tmp = round(sum(data[\"t_i_min_mean\"]))\n",
    "print(f\"Сумма значений столбца t_i - t_mean: { tmp }\")"
   ]
  },
  {
   "cell_type": "code",
   "execution_count": 6,
   "id": "blond-pavilion",
   "metadata": {},
   "outputs": [],
   "source": [
    "# Заполнение столбца (t_i - t_mean)^2\n",
    "for t_i in data[\"t_i_min_mean\"]:\n",
    "    data[\"t_i_min_mean_sq\"].append(round(t_i ** 2, 2))"
   ]
  },
  {
   "cell_type": "markdown",
   "id": "variable-format",
   "metadata": {},
   "source": [
    "### Итоговый результат заполнения табл. 1"
   ]
  },
  {
   "cell_type": "code",
   "execution_count": 7,
   "id": "atomic-romania",
   "metadata": {},
   "outputs": [],
   "source": [
    "𝜎_N = round(math.sqrt((1 / (N - 1)) * sum(data[\"t_i_min_mean_sq\"])), 2)\n",
    "𝜌_max = round(1 / (𝜎_N * math.sqrt(2 * math.pi)), 2)"
   ]
  },
  {
   "cell_type": "markdown",
   "id": "whole-turner",
   "metadata": {},
   "source": [
    "### Заполнение табл. 2"
   ]
  },
  {
   "cell_type": "code",
   "execution_count": 8,
   "id": "plastic-semiconductor",
   "metadata": {},
   "outputs": [],
   "source": [
    "data_second = {\"intr\": (\n",
    "    (9.2, 9.45), (9.46, 9.71), (9.72, 9.97), (9.98, 10.23), (10.24, 10.49), (10.5, 10.75), (10.76, 11.01)),\n",
    "              }"
   ]
  },
  {
   "cell_type": "code",
   "execution_count": 9,
   "id": "meaningful-oxford",
   "metadata": {},
   "outputs": [],
   "source": [
    "null = data_second.setdefault(\"ΔN\", [])\n",
    "null = data_second.setdefault(\"ΔN_NΔT\", [])\n",
    "null = data_second.setdefault(\"t\", [])\n",
    "null = data_second.setdefault(\"𝜌\", [])"
   ]
  },
  {
   "cell_type": "code",
   "execution_count": 10,
   "id": "raising-motorcycle",
   "metadata": {},
   "outputs": [],
   "source": [
    "for start, end in data_second[\"intr\"]:\n",
    "    data_second[\"t\"].append(round(stat.mean([start, end]), 2))\n",
    "    cnt = 0\n",
    "    for t in data[\"t\"]:\n",
    "        if (start < t or math.isclose(start, t)) and (math.isclose(end, t) or t < end):\n",
    "            cnt += 1\n",
    "    data_second[\"ΔN\"].append(cnt)\n",
    "\n",
    "# Из-за ошибок округления (и сравнения чисел типа float) добавим значения, которые не попали в промежуток\n",
    "data_second[\"ΔN\"][0] += 1\n",
    "data_second[\"ΔN\"][-1] += 1"
   ]
  },
  {
   "cell_type": "code",
   "execution_count": 11,
   "id": "organized-support",
   "metadata": {},
   "outputs": [
    {
     "name": "stdout",
     "output_type": "stream",
     "text": [
      " ΔT = 0.27\n"
     ]
    }
   ],
   "source": [
    "ΔT = round((t_max - t_min) / 7, 2)\n",
    "\n",
    "print(f\" ΔT = {ΔT}\")"
   ]
  },
  {
   "cell_type": "code",
   "execution_count": 12,
   "id": "german-waste",
   "metadata": {},
   "outputs": [],
   "source": [
    "for i in data_second[\"ΔN\"]:\n",
    "    data_second[\"ΔN_NΔT\"].append(round(i /(N*ΔT), 2))"
   ]
  },
  {
   "cell_type": "code",
   "execution_count": 13,
   "id": "governmental-sleeve",
   "metadata": {},
   "outputs": [],
   "source": [
    "def 𝜌(t):\n",
    "    return 𝜌_max * math.exp(-(((t-t_mean) ** 2) / (2*(𝜎_N) ** 2)))"
   ]
  },
  {
   "cell_type": "code",
   "execution_count": 14,
   "id": "necessary-agency",
   "metadata": {},
   "outputs": [],
   "source": [
    "for i in data_second[\"t\"]:\n",
    "    data_second[\"𝜌\"].append(round(𝜌(i), 2))"
   ]
  },
  {
   "cell_type": "markdown",
   "id": "answering-harrison",
   "metadata": {},
   "source": [
    "### Результаты заполнения табл. 1 и табл 2."
   ]
  },
  {
   "cell_type": "code",
   "execution_count": 15,
   "id": "selective-entertainment",
   "metadata": {},
   "outputs": [
    {
     "name": "stdout",
     "output_type": "stream",
     "text": [
      "Таблица 1\n",
      "{'t': [9.17, 9.38, 9.38, 9.48, 9.57, 9.6, 9.65, 9.8, 9.81, 9.82, 9.83,\n",
      "       9.83, 9.83, 9.85, 9.87, 9.88, 9.88, 9.89, 9.89, 9.9, 9.92,\n",
      "       9.92, 9.92, 9.95, 9.96, 9.97, 9.99, 10.0, 10.0, 10.0, 10.02,\n",
      "       10.02, 10.04, 10.04, 10.05, 10.07, 10.09, 10.11, 10.17, 10.17,\n",
      "       10.2, 10.2, 10.25, 10.25, 10.3, 10.34, 10.39, 10.55, 10.88,\n",
      "       11.05],\n",
      " 't_i_min_mean': [-0.81, -0.6, -0.6, -0.5, -0.41, -0.38, -0.33, -0.18,\n",
      "                  -0.17, -0.16, -0.15, -0.15, -0.15, -0.13, -0.11,\n",
      "                  -0.1, -0.1, -0.09, -0.09, -0.08, -0.06, -0.06,\n",
      "                  -0.06, -0.03, -0.02, -0.01, 0.01, 0.02, 0.02, 0.02,\n",
      "                  0.04, 0.04, 0.06, 0.06, 0.07, 0.09, 0.11, 0.13,\n",
      "                  0.19, 0.19, 0.22, 0.22, 0.27, 0.27, 0.32, 0.36,\n",
      "                  0.41, 0.57, 0.9, 1.07],\n",
      " 't_i_min_mean_sq': [0.66, 0.36, 0.36, 0.25, 0.17, 0.14, 0.11, 0.03,\n",
      "                     0.03, 0.03, 0.02, 0.02, 0.02, 0.02, 0.01, 0.01,\n",
      "                     0.01, 0.01, 0.01, 0.01, 0.0, 0.0, 0.0, 0.0, 0.0,\n",
      "                     0.0, 0.0, 0.0, 0.0, 0.0, 0.0, 0.0, 0.0, 0.0, 0.0,\n",
      "                     0.01, 0.01, 0.02, 0.04, 0.04, 0.05, 0.05, 0.07,\n",
      "                     0.07, 0.1, 0.13, 0.17, 0.32, 0.81, 1.14]}\n",
      "Вычисления в подвале табл.1: 𝜎_N=0.33, 𝜌_max=1.21\n",
      "\n",
      "Таблица 2\n",
      "{'intr': ((9.2, 9.45), (9.46, 9.71), (9.72, 9.97), (9.98, 10.23),\n",
      "          (10.24, 10.49), (10.5, 10.75), (10.76, 11.01)),\n",
      " 't': [9.32, 9.59, 9.85, 10.11, 10.37, 10.62, 10.88],\n",
      " 'ΔN': [3, 4, 19, 16, 5, 1, 2],\n",
      " 'ΔN_NΔT': [0.22, 0.3, 1.41, 1.19, 0.37, 0.07, 0.15],\n",
      " '𝜌': [0.16, 0.6, 1.12, 1.12, 0.6, 0.18, 0.03]}\n"
     ]
    }
   ],
   "source": [
    "print(\"Таблица 1\")\n",
    "pp.pprint(data)\n",
    "print(f\"Вычисления в подвале табл.1: 𝜎_N={𝜎_N}, 𝜌_max={𝜌_max}\")\n",
    "\n",
    "print(\"\\nТаблица 2\")\n",
    "pp.pprint(data_second)"
   ]
  },
  {
   "cell_type": "markdown",
   "id": "enormous-complex",
   "metadata": {},
   "source": [
    "## Построение графика"
   ]
  },
  {
   "cell_type": "code",
   "execution_count": 16,
   "id": "conditional-plaza",
   "metadata": {},
   "outputs": [
    {
     "data": {
      "image/png": "[encoded data removed]",
      "text/plain": [
       "<Figure size 432x288 with 1 Axes>"
      ]
     },
     "metadata": {},
     "output_type": "display_data"
    }
   ],
   "source": [
    "plt.style.use('seaborn-white')\n",
    "\n",
    "_x = np.asarray(data_second[\"t\"])\n",
    "_y = np.asarray(data_second[\"ΔN_NΔT\"])\n",
    "_p = np.asarray(data_second[\"𝜌\"])\n",
    "\n",
    "plt.grid()\n",
    "\n",
    "plt.bar(_x, _y, label=\"ye\",width=0.27, alpha=1)\n",
    "\n",
    "f = interp1d(_x, _y, kind=\"linear\")\n",
    "x_int = np.linspace(_x[0],_x[-1], 20)\n",
    "y_int = f(x_int)\n",
    "\n",
    "plt.plot(x_int, y_int, label=\"p\",alpha=0.8, color=\"r\")\n",
    "\n",
    "plt.legend()\n",
    "\n",
    "plt.show()"
   ]
  }
 ],
 "metadata": {
  "kernelspec": {
   "display_name": "Python 3",
   "language": "python",
   "name": "python3"
  },
  "language_info": {
   "codemirror_mode": {
    "name": "ipython",
    "version": 3
   },
   "file_extension": ".py",
   "mimetype": "text/x-python",
   "name": "python",
   "nbconvert_exporter": "python",
   "pygments_lexer": "ipython3",
   "version": "3.9.2"
  }
 },
 "nbformat": 4,
 "nbformat_minor": 5
}
